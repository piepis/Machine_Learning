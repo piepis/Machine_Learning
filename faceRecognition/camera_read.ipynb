{
 "cells": [
  {
   "cell_type": "code",
   "execution_count": 1,
   "metadata": {
    "collapsed": false
   },
   "outputs": [
    {
     "name": "stderr",
     "output_type": "stream",
     "text": [
      "Using TensorFlow backend.\n"
     ]
    }
   ],
   "source": [
    "import cv2\n",
    "from train_model import Model\n",
    "from read_data import read_name_list"
   ]
  },
  {
   "cell_type": "code",
   "execution_count": 2,
   "metadata": {
    "collapsed": true
   },
   "outputs": [],
   "source": [
    "class Camera_reader(object):\n",
    "    #在初始化camera的时候建立模型，并加载已经训练好的模型\n",
    "    def __init__(self):\n",
    "        self.model = Model()\n",
    "        self.model.load()\n",
    "        self.img_size = 128\n",
    "\n",
    "    def build_camera(self):\n",
    "        #opencv文件中人脸级联文件的位置，用于帮助识别图像或者视频流中的人脸\n",
    "        face_cascade = cv2.CascadeClassifier('haarcascade_frontalface_alt.xml')\n",
    "        #读取dataset数据集下的子文件夹名称\n",
    "        name_list = read_name_list('webface')\n",
    "        print(name_list)\n",
    "\n",
    "        #打开摄像头并开始读取画面\n",
    "        cameraCapture = cv2.VideoCapture(0)\n",
    "        success, frame = cameraCapture.read()\n",
    "\n",
    "        while success and cv2.waitKey(1) == -1:\n",
    "             success, frame = cameraCapture.read()\n",
    "             gray = cv2.cvtColor(frame, cv2.COLOR_BGR2GRAY) #图像灰化\n",
    "             faces = face_cascade.detectMultiScale(gray, 1.3, 5) #识别人脸\n",
    "             for (x, y, w, h) in faces:\n",
    "                 ROI = gray[x:x + w, y:y + h]\n",
    "                 ROI = cv2.resize(ROI, (self.img_size, self.img_size), interpolation=cv2.INTER_LINEAR)\n",
    "                 label,prob = self.model.predict(ROI)  #利用模型对cv2识别出的人脸进行比对\n",
    "                 if prob >0.5:    #如果模型认为概率高于70%则显示为模型中已有的label\n",
    "                     show_name = name_list[label]\n",
    "                 else:\n",
    "                     show_name = 'wangkai'\n",
    "                 cv2.putText(frame, show_name, (x, y - 20), cv2.FONT_HERSHEY_SIMPLEX, 1, 255, 2)  #显示名字\n",
    "                 frame = cv2.rectangle(frame, (x, y), (x + w, y + h), (255, 0, 0), 2)  #在人脸区域画一个正方形出来\n",
    "             cv2.imshow(\"Camera\", frame)\n",
    "\n",
    "        cameraCapture.release()\n",
    "        cv2.destroyAllWindows()"
   ]
  },
  {
   "cell_type": "code",
   "execution_count": 3,
   "metadata": {
    "collapsed": false
   },
   "outputs": [
    {
     "name": "stdout",
     "output_type": "stream",
     "text": [
      "Model Loaded.\n",
      "['0000045', '0000099', '0000100', '0000102', '0000103', '0000105', '0000107', '0000108', '0000114', '0000117', '0000119', '0000121', '0000133', '0000137', '0000141', '0000143', '0000144', '0000145', '0000147', '0000156', '0000157', '0000159', '0000166', '0000168', '0000169', '0000170', '0000174', '0000177', '0000183', '0000185', '0000186', '0000188', '0000319', '0000321', '0000324', '0000327', '0000331', '0000332', '0000333', '0000334', '0000335', '0000342', '0000343', '0000344', '0000346', '0000349', '0000350', '0000351', '0000352', '0000353', '0000356', '0000357', '0000360', '0000362', '0000363', '0000364', '0000365', '0000368', '0000373', '0000374', '0000381', '0000383', '0000385', '0000386', '0000387', '0000388', '0000389', '0000391', '0000394', '0000396', '0000397', '0000399', '0000402', '0000405', '0000408', '0000410', '0000411', '0000413', '0000415', '0000420', '0000422', '0000426', '0000427', '0000430', '0000431', '0000433', '0000434', '0000436', '0000437', '0000438', '0000439', '0000442', '0000444', '0000446', '0000447', '0000448', '0000451', '0000452', '0000455', '0000457', '0000459', '0000460', '0000461', '0000462', '0000463', '0000464', '0000465', '0000467', '0000471', '0000473', '0000477', '0000480', '0000481', '0000482', '0000483', '0000484', '0000486', '0000487', '0000492', '0000494', '0000495', '0000498', '0000499', '0000500', 'wangkai']\n"
     ]
    }
   ],
   "source": [
    "camera = Camera_reader()\n",
    "camera.build_camera()"
   ]
  },
  {
   "cell_type": "code",
   "execution_count": null,
   "metadata": {
    "collapsed": true
   },
   "outputs": [],
   "source": []
  }
 ],
 "metadata": {
  "kernelspec": {
   "display_name": "Python 3",
   "language": "python",
   "name": "python3"
  },
  "language_info": {
   "codemirror_mode": {
    "name": "ipython",
    "version": 3
   },
   "file_extension": ".py",
   "mimetype": "text/x-python",
   "name": "python",
   "nbconvert_exporter": "python",
   "pygments_lexer": "ipython3",
   "version": "3.6.0"
  }
 },
 "nbformat": 4,
 "nbformat_minor": 2
}
